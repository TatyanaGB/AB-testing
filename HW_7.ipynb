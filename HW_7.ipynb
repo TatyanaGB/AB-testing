{
 "cells": [
  {
   "cell_type": "markdown",
   "id": "4d23ea23",
   "metadata": {},
   "source": [
    "## Задание\n",
    "\n",
    "На основе выбранных продуктов из первого вебинара, выберите 2 A/B-теста и составьте план эксперимента, чтобы избежать Peeking Problem\n",
    "Распишите, какие метрики и как вы будете анализировать\n"
   ]
  },
  {
   "cell_type": "markdown",
   "id": "495de191",
   "metadata": {},
   "source": [
    "**Гипотеза**: В шапке сайта пишем доставка от 3000 руб бесплатно\n",
    "**На каких пользователях тестируем**: для всех, пришедших на сайт\n",
    "**Что делаем в каждой из групп**: Контрольная версия: оставляем текущий вид страницы,  Тестовая версия: На верху сайта пишем доставка от 3000 руб бесплатно\n",
    "**Метрики**: AOV; Conversion Rate (конверсия первой покупки); Clicks\n",
    "*AOV - primary\n",
    "Clicks -secondary\n",
    "Conversion Rate - secondary"
   ]
  },
  {
   "cell_type": "markdown",
   "id": "adbb4879",
   "metadata": {},
   "source": [
    "Гипотеза: Если в шапке сайта добавить надпись \"Доставка от 3000 руб. бесплатно\", для пользователей, пришедших на сайт, то увеличим средний чек на 5%, потому что появится сервиз (доставка) и тем самым повлияем на увеличение суммы заказов."
   ]
  },
  {
   "cell_type": "markdown",
   "id": "e617385d",
   "metadata": {},
   "source": [
    "**Добавляем  в шабке сайта надпись \"Доставка от 3000 руб. бесплатно\". Нынешний средний чек равен 2800 р, а стандартная ошибка равна (SD) 180. Мы предполагаем, что после изменения средний чек вырастет на 5% от текущего значения. Средний трафик 10000. Посчитайте сколько дней необходимо держать эксперимент при alpha = 5% и beta = 20%? "
   ]
  },
  {
   "cell_type": "code",
   "execution_count": 2,
   "id": "aff728fc",
   "metadata": {},
   "outputs": [],
   "source": [
    "from statsmodels.stats.power import tt_ind_solve_power, zt_ind_solve_power\n",
    "from statsmodels.stats.proportion import proportion_effectsize\n",
    "from statsmodels.stats.meta_analysis import effectsize_smd\n",
    "from typing import Union\n",
    "import plotly.graph_objects as go\n",
    "from scipy import stats\n",
    "from math import asin\n",
    "import numpy as np"
   ]
  },
  {
   "cell_type": "code",
   "execution_count": 3,
   "id": "1464a733",
   "metadata": {},
   "outputs": [],
   "source": [
    "def calc_continuous_effect_size(mean_1: Union[float, int],\n",
    "                                std_1: Union[float, int],\n",
    "                                mean_2: Union[float, int],\n",
    "                                std_2: Union[float, int],\n",
    "                                nobs_1: int = 10_000,\n",
    "                                nobs_2: int = 10_000):\n",
    "    \n",
    "    es_formula = (mean_1 - mean_2) / ((std_1**2 + std_2**2) / 2) ** 0.5\n",
    "    es_import = effectsize_smd(mean_1, std_1, nobs_1, mean_2, std_2, nobs_2)[0]\n",
    "    \n",
    "    return es_formula, es_import "
   ]
  },
  {
   "cell_type": "code",
   "execution_count": 4,
   "id": "b0efbb7e",
   "metadata": {},
   "outputs": [],
   "source": [
    "def calc_sample_size_continuous(effect_size: float,\n",
    "                                alpha: float = .05,\n",
    "                                beta: float = .2,\n",
    "                                ratio: Union[float, int] = 1):\n",
    "    \n",
    "    n = tt_ind_solve_power(effect_size=effect_size,\n",
    "                           alpha=alpha,\n",
    "                           power=(1 - beta),\n",
    "                           ratio=ratio,\n",
    "                  )\n",
    "    return int(n * 2)"
   ]
  },
  {
   "cell_type": "code",
   "execution_count": 17,
   "id": "a7bec2e0",
   "metadata": {},
   "outputs": [
    {
     "data": {
      "text/plain": [
       "(-0.8055555555555556, -0.8055253438234024)"
      ]
     },
     "execution_count": 17,
     "metadata": {},
     "output_type": "execute_result"
    }
   ],
   "source": [
    "mu_control, mu_test = 2900, 3045\n",
    "std_control, std_test = 180, 180\n",
    "\n",
    "calc_continuous_effect_size(mean_1=mu_control, std_1=std_control, mean_2=mu_test, std_2=std_test) "
   ]
  },
  {
   "cell_type": "code",
   "execution_count": 18,
   "id": "473626d1",
   "metadata": {},
   "outputs": [
    {
     "data": {
      "text/plain": [
       "50"
      ]
     },
     "execution_count": 18,
     "metadata": {},
     "output_type": "execute_result"
    }
   ],
   "source": [
    "effect_size = calc_continuous_effect_size(mean_1=mu_control, std_1=std_control, mean_2=mu_test, std_2=std_test)[1]\n",
    "calc_sample_size_continuous(effect_size=effect_size, alpha=.05, beta=.2) "
   ]
  },
  {
   "cell_type": "code",
   "execution_count": 19,
   "id": "75e3204d",
   "metadata": {},
   "outputs": [
    {
     "data": {
      "text/plain": [
       "0.005"
      ]
     },
     "execution_count": 19,
     "metadata": {},
     "output_type": "execute_result"
    }
   ],
   "source": [
    "a = 50/10000\n",
    "a"
   ]
  },
  {
   "cell_type": "markdown",
   "id": "f9fc984d",
   "metadata": {},
   "source": [
    "Ответ: чтобы данная гипотеза подтвердилась нужно 50 наблюдений с продолжительностью в 1 день."
   ]
  },
  {
   "cell_type": "markdown",
   "id": "06965bf3",
   "metadata": {},
   "source": [
    "**Гипотеза**: Делаем рекламу на телевидении о высоких скидках\t\t\t\t\n",
    "**На каких пользователях тестируем**: для широкого круга пользователей \t\t\t\t\n",
    "**Что делаем в каждой из групп**: Контрольная версия: ничего не предпринимаем,  Тестовая версия: Делаем рекламу на телевиденье о высоких скидках\t\t\t\t\n",
    "**Метрики**: MAU,DAU,WAU; Conversion Rate (конверсия первой покупки); Revenue\t\t\t\t\n",
    "Conversion Rate - primary\n",
    "Revenue - secondary\t\t\t\t\n",
    "MAU,DAU,WAU - secondary\t\t\t\t\n",
    "\t\t\t\n"
   ]
  },
  {
   "cell_type": "markdown",
   "id": "282da085",
   "metadata": {},
   "source": [
    "Гипотеза: если делаем рекламу на телевидении о высоких скидках, то увеличим конверсию первой покупки, потому что привлечем новых клиентов и какое-то количество  из них сделает заказ."
   ]
  },
  {
   "cell_type": "markdown",
   "id": "3fb245ea",
   "metadata": {},
   "source": [
    "**Маркетплейс Озон хочет провести рекламу на телевидении. Нынешняя конверсия первой покупки равна 10%. Предположительно, что конверсия вырастит на 20%. Средний трафик 5000 человек в день. Посчитайте сколько дней необходимо держать эксперимент при alpha = 5% и beta = 20%? "
   ]
  },
  {
   "cell_type": "code",
   "execution_count": 20,
   "id": "f20d2ef3",
   "metadata": {},
   "outputs": [],
   "source": [
    "def calc_propotion_effect_size(conv_1: int, nobs_1: int, conv_2: int, nobs_2: int):\n",
    "    prob_1, prob_2 = conv_1 / nobs_1, conv_2 / nobs_2\n",
    "    \n",
    "    es_formula = 2  * asin(np.sqrt(prob_1)) - 2 * asin(np.sqrt(prob_2))\n",
    "    es_import = proportion_effectsize(prob_1, prob_2)\n",
    "    \n",
    "    return es_formula, es_import\n"
   ]
  },
  {
   "cell_type": "code",
   "execution_count": 21,
   "id": "8c46b8b7",
   "metadata": {},
   "outputs": [],
   "source": [
    "def calc_sample_size_proportion(effect_size: float,\n",
    "                                alpha: float = .05,\n",
    "                                beta: float = .2,\n",
    "                                ratio: Union[float, int] = 1):\n",
    "    \n",
    "    n = zt_ind_solve_power(effect_size=effect_size,\n",
    "                           alpha=alpha,\n",
    "                           power=(1 - beta),\n",
    "                           ratio=ratio,\n",
    "                  )\n",
    "    return int(n * 2)"
   ]
  },
  {
   "cell_type": "code",
   "execution_count": 24,
   "id": "ea7d69ff",
   "metadata": {},
   "outputs": [
    {
     "name": "stdout",
     "output_type": "stream",
     "text": [
      "0.1 0.12\n"
     ]
    },
    {
     "data": {
      "text/plain": [
       "(-0.06398210298605855, -0.06398210298605855)"
      ]
     },
     "execution_count": 24,
     "metadata": {},
     "output_type": "execute_result"
    }
   ],
   "source": [
    "conv_1, conv_2 = 10, 12\n",
    "nobs_1, nobs_2 = 100, 100\n",
    "prob_1, prob_2 = conv_1 / nobs_1, conv_2 / nobs_2 \n",
    "print(prob_1, prob_2)\n",
    "calc_propotion_effect_size(conv_1=conv_1, nobs_1=nobs_1, conv_2=conv_2, nobs_2=nobs_2)"
   ]
  },
  {
   "cell_type": "code",
   "execution_count": 25,
   "id": "d9966887",
   "metadata": {},
   "outputs": [
    {
     "data": {
      "text/plain": [
       "7669"
      ]
     },
     "execution_count": 25,
     "metadata": {},
     "output_type": "execute_result"
    }
   ],
   "source": [
    "effect_size = calc_propotion_effect_size(conv_1=conv_1, nobs_1=nobs_1, conv_2=conv_2, nobs_2=nobs_2)[0]\n",
    "calc_sample_size_proportion(effect_size=effect_size, alpha=.05, beta=.2)"
   ]
  },
  {
   "cell_type": "code",
   "execution_count": 26,
   "id": "aca8c03a",
   "metadata": {},
   "outputs": [
    {
     "data": {
      "text/plain": [
       "1.5338"
      ]
     },
     "execution_count": 26,
     "metadata": {},
     "output_type": "execute_result"
    }
   ],
   "source": [
    "a = 7669/5000\n",
    "a"
   ]
  },
  {
   "cell_type": "code",
   "execution_count": null,
   "id": "6093d720",
   "metadata": {},
   "outputs": [],
   "source": [
    "Ответ :чтобы данная гипотеза подтвердилась нужно 7669 наблюдений с продолжительностью в 2 дня."
   ]
  }
 ],
 "metadata": {
  "kernelspec": {
   "display_name": "Python 3 (ipykernel)",
   "language": "python",
   "name": "python3"
  },
  "language_info": {
   "codemirror_mode": {
    "name": "ipython",
    "version": 3
   },
   "file_extension": ".py",
   "mimetype": "text/x-python",
   "name": "python",
   "nbconvert_exporter": "python",
   "pygments_lexer": "ipython3",
   "version": "3.9.13"
  }
 },
 "nbformat": 4,
 "nbformat_minor": 5
}
