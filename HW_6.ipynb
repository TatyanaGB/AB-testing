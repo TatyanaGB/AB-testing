{
 "cells": [
  {
   "cell_type": "markdown",
   "id": "e7b8deb6",
   "metadata": {},
   "source": [
    "## Задание 1\n",
    "\n",
    "Продакт на главной mail.ru решил протестировать в рекомендательной ленте контента вместо карточек со статьями видеоплеер \n",
    "с короткими видео. Нынешний таймспент на юзера в день в среднем равен 25 минут, а стандартная ошибка (SD) равна 156. Мы предполагаем, что в новой версии таймспент на юзера в день изменится на 10%. Средний трафик 20000 человек в день. Посчитайте сколько дней необходимо держать эксперимент при alpha = 5% и beta = 20% ."
   ]
  },
  {
   "cell_type": "code",
   "execution_count": 2,
   "id": "41c0ffff",
   "metadata": {},
   "outputs": [],
   "source": [
    "from statsmodels.stats.power import tt_ind_solve_power, zt_ind_solve_power\n",
    "from statsmodels.stats.proportion import proportion_effectsize\n",
    "from statsmodels.stats.meta_analysis import effectsize_smd\n",
    "from typing import Union\n",
    "import plotly.graph_objects as go\n",
    "from scipy import stats\n",
    "from math import asin\n",
    "import numpy as np"
   ]
  },
  {
   "cell_type": "code",
   "execution_count": 3,
   "id": "cccb2973",
   "metadata": {},
   "outputs": [],
   "source": [
    "#Расчёт effect_size для непрерывных метрик\n",
    "def calc_continuous_effect_size(mean_1: Union[float, int],\n",
    "                                std_1: Union[float, int],\n",
    "                                mean_2: Union[float, int],\n",
    "                                std_2: Union[float, int],\n",
    "                                nobs_1: int = 10_000,\n",
    "                                nobs_2: int = 10_000):\n",
    "    \n",
    "    es_formula = (mean_1 - mean_2) / ((std_1**2 + std_2**2) / 2) ** 0.5\n",
    "    es_import = effectsize_smd(mean_1, std_1, nobs_1, mean_2, std_2, nobs_2)[0]\n",
    "    \n",
    "    return es_formula, es_import "
   ]
  },
  {
   "cell_type": "code",
   "execution_count": 4,
   "id": "b4bcccf7",
   "metadata": {},
   "outputs": [],
   "source": [
    "#Расчёт минимально необходимой выборки * 2(для теста и контроля) для непрерывной метрики\n",
    "def calc_sample_size_continuous(effect_size: float,\n",
    "                                alpha: float = .05,\n",
    "                                beta: float = .2,\n",
    "                                ratio: Union[float, int] = 1):\n",
    "    \n",
    "    n = tt_ind_solve_power(effect_size=effect_size,\n",
    "                           alpha=alpha,\n",
    "                           power=(1 - beta),\n",
    "                           ratio=ratio,\n",
    "                  )\n",
    "    return int(n * 2)"
   ]
  },
  {
   "cell_type": "code",
   "execution_count": 5,
   "id": "07c27cb6",
   "metadata": {},
   "outputs": [
    {
     "data": {
      "text/plain": [
       "(-0.016025641025641024, -0.016025039996486783)"
      ]
     },
     "execution_count": 5,
     "metadata": {},
     "output_type": "execute_result"
    }
   ],
   "source": [
    "mu_control, mu_test = 25, 27.5\n",
    "std_control, std_test = 156, 156\n",
    "\n",
    "calc_continuous_effect_size(mean_1=mu_control, std_1=std_control, mean_2=mu_test, std_2=std_test) #-0.18840579710144928"
   ]
  },
  {
   "cell_type": "code",
   "execution_count": 6,
   "id": "ea70c687",
   "metadata": {},
   "outputs": [
    {
     "data": {
      "text/plain": [
       "122257"
      ]
     },
     "execution_count": 6,
     "metadata": {},
     "output_type": "execute_result"
    }
   ],
   "source": [
    "effect_size = calc_continuous_effect_size(mean_1=mu_control, std_1=std_control, mean_2=mu_test, std_2=std_test)[1]\n",
    "calc_sample_size_continuous(effect_size=effect_size, alpha=.05, beta=.2) #122257"
   ]
  },
  {
   "cell_type": "code",
   "execution_count": 8,
   "id": "bcc19978",
   "metadata": {
    "scrolled": true
   },
   "outputs": [
    {
     "data": {
      "text/plain": [
       "6.11285"
      ]
     },
     "execution_count": 8,
     "metadata": {},
     "output_type": "execute_result"
    }
   ],
   "source": [
    "b = 122257/20000\n",
    "b"
   ]
  },
  {
   "cell_type": "markdown",
   "id": "095a4a5d",
   "metadata": {},
   "source": [
    "*Ответ: необходимо 7 дней держать эксперимент."
   ]
  },
  {
   "cell_type": "markdown",
   "id": "ddd77375",
   "metadata": {},
   "source": [
    "## Задание 2\n",
    "\n",
    "Наша продуктовая команда в ecommerce магазине планирует запустить тест, направленный на ускорение загрузки сайта. \n",
    "Одна из основных метрик bounce rate в GA = 40%. Мы предполагаем, что при оптимизации сайта она изменится минимум на 20%.\n",
    "Средний трафик 4000 человек в день. Посчитайте сколько нам нужно дней держать эксперимент при alpha = 5% и beta = 20%."
   ]
  },
  {
   "cell_type": "code",
   "execution_count": 11,
   "id": "b5a1ed7c",
   "metadata": {},
   "outputs": [],
   "source": [
    "#Расчёт effect_size для пропорций\n",
    "def calc_propotion_effect_size(conv_1: int, nobs_1: int, conv_2: int, nobs_2: int):\n",
    "    prob_1, prob_2 = conv_1 / nobs_1, conv_2 / nobs_2\n",
    "    \n",
    "    es_formula = 2  * asin(np.sqrt(prob_1)) - 2 * asin(np.sqrt(prob_2))\n",
    "    es_import = proportion_effectsize(prob_1, prob_2)\n",
    "    \n",
    "    return es_formula, es_import\n"
   ]
  },
  {
   "cell_type": "code",
   "execution_count": 12,
   "id": "dda99e93",
   "metadata": {},
   "outputs": [],
   "source": [
    "#Расчёт минимально необходимой выборки * 2(для теста и контроля) для пропорций\n",
    "def calc_sample_size_proportion(effect_size: float,\n",
    "                                alpha: float = .05,\n",
    "                                beta: float = .2,\n",
    "                                ratio: Union[float, int] = 1):\n",
    "    \n",
    "    n = zt_ind_solve_power(effect_size=effect_size,\n",
    "                           alpha=alpha,\n",
    "                           power=(1 - beta),\n",
    "                           ratio=ratio,\n",
    "                  )\n",
    "    return int(n * 2)"
   ]
  },
  {
   "cell_type": "code",
   "execution_count": 30,
   "id": "54b6c5f5",
   "metadata": {},
   "outputs": [
    {
     "name": "stdout",
     "output_type": "stream",
     "text": [
      "0.4 0.32\n"
     ]
    },
    {
     "data": {
      "text/plain": [
       "(0.16690997264630925, 0.16690997264630925)"
      ]
     },
     "execution_count": 30,
     "metadata": {},
     "output_type": "execute_result"
    }
   ],
   "source": [
    "conv_1, conv_2 = 40, 32\n",
    "nobs_1, nobs_2 = 100, 100\n",
    "prob_1, prob_2 = conv_1 / nobs_1, conv_2 / nobs_2 \n",
    "print(prob_1, prob_2)\n",
    "calc_propotion_effect_size(conv_1=conv_1, nobs_1=nobs_1, conv_2=conv_2, nobs_2=nobs_2)"
   ]
  },
  {
   "cell_type": "code",
   "execution_count": 31,
   "id": "7466f5d4",
   "metadata": {},
   "outputs": [
    {
     "data": {
      "text/plain": [
       "1126"
      ]
     },
     "execution_count": 31,
     "metadata": {},
     "output_type": "execute_result"
    }
   ],
   "source": [
    "effect_size = calc_propotion_effect_size(conv_1=conv_1, nobs_1=nobs_1, conv_2=conv_2, nobs_2=nobs_2)[0]\n",
    "calc_sample_size_proportion(effect_size=effect_size, alpha=.05, beta=.2)"
   ]
  },
  {
   "cell_type": "code",
   "execution_count": 32,
   "id": "fce83fe3",
   "metadata": {},
   "outputs": [
    {
     "data": {
      "text/plain": [
       "0.2815"
      ]
     },
     "execution_count": 32,
     "metadata": {},
     "output_type": "execute_result"
    }
   ],
   "source": [
    "a = 1126/4000\n",
    "a"
   ]
  },
  {
   "cell_type": "markdown",
   "id": "c9d31835",
   "metadata": {},
   "source": [
    "*Ответ: 1 день нужно держать эксперимент."
   ]
  }
 ],
 "metadata": {
  "kernelspec": {
   "display_name": "Python 3 (ipykernel)",
   "language": "python",
   "name": "python3"
  },
  "language_info": {
   "codemirror_mode": {
    "name": "ipython",
    "version": 3
   },
   "file_extension": ".py",
   "mimetype": "text/x-python",
   "name": "python",
   "nbconvert_exporter": "python",
   "pygments_lexer": "ipython3",
   "version": "3.9.13"
  }
 },
 "nbformat": 4,
 "nbformat_minor": 5
}
